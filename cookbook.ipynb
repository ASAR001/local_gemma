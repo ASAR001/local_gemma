{
 "cells": [
  {
   "cell_type": "code",
   "execution_count": null,
   "metadata": {},
   "outputs": [],
   "source": [
    "# cmake is needed for installing grain\n",
    "!pip install flax tensorflow jaxtyping einops lark typeguard immutabledict tqdm pandas mediapy grain tensorflow-datasets sentencepiece"
   ]
  },
  {
   "cell_type": "code",
   "execution_count": null,
   "metadata": {},
   "outputs": [],
   "source": [
    "!pip install tensorflow-metal\n",
    "!pip install ipywidgets\n",
    "!jupyter nbextension enable --py widgetsnbextension"
   ]
  },
  {
   "cell_type": "code",
   "execution_count": null,
   "metadata": {},
   "outputs": [],
   "source": [
    "from gemma import gm\n",
    "\n",
    "# Model and parameters\n",
    "model = gm.nn.Gemma3_4B()"
   ]
  },
  {
   "cell_type": "code",
   "execution_count": null,
   "metadata": {},
   "outputs": [],
   "source": [
    "# Example of multi-turn conversation\n",
    "sampler = gm.text.ChatSampler(\n",
    "    model=model,\n",
    "    params=params,\n",
    "    multi_turn=True,\n",
    ")\n",
    "\n",
    "prompt = \"\"\"Which of the 2 images do you prefer ?\n",
    "\n",
    "Image 1: <start_of_image>\n",
    "Image 2: <start_of_image>\n",
    "\n",
    "Write your answer as a poem.\"\"\"\n",
    "out0 = sampler.chat(prompt, images=[image1, image2])\n",
    "\n",
    "out1 = sampler.chat('What about the other image ?')"
   ]
  }
 ],
 "metadata": {
  "language_info": {
   "name": "python"
  }
 },
 "nbformat": 4,
 "nbformat_minor": 2
}
